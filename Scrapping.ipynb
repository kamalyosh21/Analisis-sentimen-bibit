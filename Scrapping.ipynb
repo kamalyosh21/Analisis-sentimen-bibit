{
  "cells": [
    {
      "cell_type": "code",
      "source": [
        "!pip install google-play-scraper\n"
      ],
      "metadata": {
        "id": "pp8AKvVefd8k",
        "outputId": "0c47365d-b6e7-4d3d-d378-aa36b0030767",
        "colab": {
          "base_uri": "https://localhost:8080/"
        }
      },
      "execution_count": null,
      "outputs": [
        {
          "output_type": "stream",
          "name": "stdout",
          "text": [
            "Requirement already satisfied: google-play-scraper in /usr/local/lib/python3.11/dist-packages (1.2.7)\n"
          ]
        }
      ]
    },
    {
      "cell_type": "code",
      "source": [
        "# Library untuk mengambil review\n",
        "from google_play_scraper import app, reviews, Sort, reviews_all"
      ],
      "metadata": {
        "id": "MsiyBR2Rivq0"
      },
      "execution_count": null,
      "outputs": []
    },
    {
      "cell_type": "code",
      "source": [
        "from google_play_scraper import reviews_all, Sort\n",
        "\n",
        "# Mengambil semua ulasan dari aplikasi Bibit di Google Play Store\n",
        "scrapreview = reviews_all(\n",
        "    'com.bibit.bibitid',\n",
        "    lang='id',\n",
        "    country='id',\n",
        "    sort=Sort.MOST_RELEVANT,\n",
        "    count=10000\n",
        ")\n",
        "\n"
      ],
      "metadata": {
        "id": "r3qW8tqPZwOh"
      },
      "execution_count": null,
      "outputs": []
    },
    {
      "cell_type": "code",
      "source": [
        "import pandas as pd\n",
        "\n",
        "# Mengonversi hasil scraping (scrapreview) ke dalam DataFrame\n",
        "df = pd.DataFrame(scrapreview)\n",
        "\n",
        "# Menampilkan 5 baris pertama DataFrame\n",
        "print(df.head())\n"
      ],
      "metadata": {
        "id": "bb284VVBfxUw",
        "outputId": "44fcc1b3-a1bc-46c1-ee83-c2042d81ed01",
        "colab": {
          "base_uri": "https://localhost:8080/"
        }
      },
      "execution_count": null,
      "outputs": [
        {
          "output_type": "stream",
          "name": "stdout",
          "text": [
            "                               reviewId         userName  \\\n",
            "0  67af427b-48f1-46cf-92dc-8c796b047c67  Pengguna Google   \n",
            "1  a4d66b3e-b3f7-474d-b2c6-2e25f7d3f793  Pengguna Google   \n",
            "2  1e4c652a-c7d6-44a4-be8a-2823168f890b  Pengguna Google   \n",
            "3  ae6d4ef6-ed38-4bf2-a6af-73f03a2ebd1b  Pengguna Google   \n",
            "4  8c60b9e2-c334-4de6-af54-72865b755593  Pengguna Google   \n",
            "\n",
            "                                           userImage  \\\n",
            "0  https://play-lh.googleusercontent.com/EGemoI2N...   \n",
            "1  https://play-lh.googleusercontent.com/EGemoI2N...   \n",
            "2  https://play-lh.googleusercontent.com/EGemoI2N...   \n",
            "3  https://play-lh.googleusercontent.com/EGemoI2N...   \n",
            "4  https://play-lh.googleusercontent.com/EGemoI2N...   \n",
            "\n",
            "                                             content  score  thumbsUpCount  \\\n",
            "0  kecewa.. fitur pencairan instan tiba-tiba tida...      1             23   \n",
            "1  aku saya lupa pin, saat ingin rubah pin di sur...      1             10   \n",
            "2  Ini kenapa gk bisa login, pesan yg muncul bila...      1             17   \n",
            "3  Apk nya memang mudah di pahami untuk para pemu...      1             30   \n",
            "4  Nyimpen Dana Darurat di produk Reksadana Pasar...      1             11   \n",
            "\n",
            "  reviewCreatedVersion                  at  \\\n",
            "0               3.94.0 2025-04-02 12:09:29   \n",
            "1               3.94.0 2025-04-07 11:06:22   \n",
            "2               3.93.0 2025-03-08 11:32:12   \n",
            "3               3.93.0 2025-03-12 09:12:39   \n",
            "4               3.94.0 2025-04-05 13:37:47   \n",
            "\n",
            "                                        replyContent           repliedAt  \\\n",
            "0  Hai kak, mohon maaf atas ketidaknyamanan yg di... 2025-04-03 13:04:25   \n",
            "1  Hai kak, mohon maaf atas ketidaknyamanan yang ... 2025-04-08 05:33:48   \n",
            "2  Hai kak, kemungkinan jaringan internet kakak t... 2025-03-09 05:15:36   \n",
            "3  Hai kak ..., pembelian dan penjualan reksa dan... 2025-03-12 15:37:46   \n",
            "4  Hai kak. Mohon maaf atas ketidaknyamanannya. T... 2025-04-06 10:47:43   \n",
            "\n",
            "  appVersion  \n",
            "0     3.94.0  \n",
            "1     3.94.0  \n",
            "2     3.93.0  \n",
            "3     3.93.0  \n",
            "4     3.94.0  \n"
          ]
        }
      ]
    },
    {
      "cell_type": "code",
      "source": [
        "df.info()"
      ],
      "metadata": {
        "id": "6WfDFfYsf5AU",
        "outputId": "854c79eb-bec4-4270-d497-aa699a6ddeb5",
        "colab": {
          "base_uri": "https://localhost:8080/"
        }
      },
      "execution_count": null,
      "outputs": [
        {
          "output_type": "stream",
          "name": "stdout",
          "text": [
            "<class 'pandas.core.frame.DataFrame'>\n",
            "RangeIndex: 39626 entries, 0 to 39625\n",
            "Data columns (total 11 columns):\n",
            " #   Column                Non-Null Count  Dtype         \n",
            "---  ------                --------------  -----         \n",
            " 0   reviewId              39626 non-null  object        \n",
            " 1   userName              39626 non-null  object        \n",
            " 2   userImage             39626 non-null  object        \n",
            " 3   content               39626 non-null  object        \n",
            " 4   score                 39626 non-null  int64         \n",
            " 5   thumbsUpCount         39626 non-null  int64         \n",
            " 6   reviewCreatedVersion  34001 non-null  object        \n",
            " 7   at                    39626 non-null  datetime64[ns]\n",
            " 8   replyContent          6112 non-null   object        \n",
            " 9   repliedAt             6112 non-null   datetime64[ns]\n",
            " 10  appVersion            34001 non-null  object        \n",
            "dtypes: datetime64[ns](2), int64(2), object(7)\n",
            "memory usage: 3.3+ MB\n"
          ]
        }
      ]
    },
    {
      "cell_type": "code",
      "source": [
        "# Simpan ke file CSV\n",
        "df.to_csv('ulasan_aplikasi.csv', index=False, encoding='utf-8-sig')"
      ],
      "metadata": {
        "id": "aa1av43Uf81n"
      },
      "execution_count": null,
      "outputs": []
    },
    {
      "cell_type": "code",
      "source": [
        "!pip install openpyxl"
      ],
      "metadata": {
        "id": "vQc2fLj1gfOv",
        "outputId": "8eaf6977-b526-45fb-cf87-de0fe35d8f70",
        "colab": {
          "base_uri": "https://localhost:8080/"
        }
      },
      "execution_count": null,
      "outputs": [
        {
          "output_type": "stream",
          "name": "stdout",
          "text": [
            "Requirement already satisfied: openpyxl in /usr/local/lib/python3.11/dist-packages (3.1.5)\n",
            "Requirement already satisfied: et-xmlfile in /usr/local/lib/python3.11/dist-packages (from openpyxl) (2.0.0)\n"
          ]
        }
      ]
    },
    {
      "cell_type": "code",
      "source": [
        "df.to_excel('ulasan_aplikasi.xlsx', index=False, engine='openpyxl')"
      ],
      "metadata": {
        "id": "viJO0GsOglr6"
      },
      "execution_count": null,
      "outputs": []
    }
  ],
  "metadata": {
    "colab": {
      "provenance": []
    },
    "kernelspec": {
      "display_name": "Python 3",
      "name": "python3"
    }
  },
  "nbformat": 4,
  "nbformat_minor": 0
}